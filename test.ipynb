{
 "cells": [
  {
   "cell_type": "code",
   "execution_count": 33,
   "metadata": {},
   "outputs": [],
   "source": [
    "from patcher.extractor import FateSeeker1Patcher, FateSeeker1PatchHelper, FateSeeker1MetaInfo\n",
    "import UnityPy\n",
    "import pathlib\n",
    "import os"
   ]
  },
  {
   "cell_type": "code",
   "execution_count": 34,
   "metadata": {},
   "outputs": [],
   "source": [
    "import csv"
   ]
  },
  {
   "cell_type": "code",
   "execution_count": null,
   "metadata": {},
   "outputs": [],
   "source": [
    "FateSeeker1MetaInfo.dlc_opening"
   ]
  },
  {
   "cell_type": "code",
   "execution_count": 36,
   "metadata": {},
   "outputs": [],
   "source": [
    "backuped_assets_path = pathlib.Path(\"extracted_assets\")"
   ]
  },
  {
   "cell_type": "code",
   "execution_count": 37,
   "metadata": {},
   "outputs": [],
   "source": [
    "fate_patcher = FateSeeker1Patcher(pathlib.Path(os.path.abspath(\".\")).joinpath(\"extracted_assets\"))\n",
    "fate_pach_helper = FateSeeker1PatchHelper(fate_patcher)"
   ]
  },
  {
   "cell_type": "code",
   "execution_count": 65,
   "metadata": {},
   "outputs": [],
   "source": [
    "t = fate_patcher.get_text(\"assets/forassetbundles/textfiles/localization.csv\")"
   ]
  },
  {
   "cell_type": "code",
   "execution_count": null,
   "metadata": {},
   "outputs": [],
   "source": [
    "t[:100]"
   ]
  },
  {
   "cell_type": "code",
   "execution_count": 39,
   "metadata": {},
   "outputs": [],
   "source": [
    "csv_reader = csv.reader(t.splitlines(), delimiter=',')"
   ]
  },
  {
   "cell_type": "code",
   "execution_count": 40,
   "metadata": {},
   "outputs": [],
   "source": [
    "from io import StringIO\n",
    "class CustomCsvDict:\n",
    "\n",
    "    def __init__(self, csv_text: str) -> None:\n",
    "        self.csv = self.heoluo_string_csv_parser(csv_text)\n",
    "\n",
    "    @staticmethod\n",
    "    def heoluo_string_csv_parser(text: str) -> list[dict[str, str]]:\n",
    "        output = list()\n",
    "        headers = None\n",
    "        for line in text.split(\"\\n\"):\n",
    "            if line.endswith(\"\\r\"):\n",
    "                line = line[:-1]\n",
    "            if line.startswith(\"#\"):\n",
    "                print(\"comment find\")\n",
    "                print(line)\n",
    "                continue\n",
    "            if not headers:\n",
    "                headers = line.split(\"\\t\")\n",
    "                continue\n",
    "            if line == \"\":\n",
    "                continue\n",
    "            output.append(dict(zip(headers, line.split(\"\\t\"))))\n",
    "        return output\n",
    "\n",
    "    def to_csv_string(self) -> str:\n",
    "        headers = self.csv[0].keys()\n",
    "        output = StringIO()\n",
    "        output.write(\"\\t\".join(headers))\n",
    "        output.write(\"\\r\\n\")\n",
    "        for row in self.csv:\n",
    "            output.write(\"\\t\".join(row.values()))\n",
    "            output.write(\"\\r\\n\")\n",
    "        return output.getvalue()\n",
    "\n",
    "    def __getitem__(self, key: str) -> dict[str, str]:\n",
    "        return self.csv[key]\n"
   ]
  },
  {
   "cell_type": "code",
   "execution_count": null,
   "metadata": {},
   "outputs": [],
   "source": [
    "for line in csv_reader:\n",
    "    print(line)"
   ]
  },
  {
   "cell_type": "code",
   "execution_count": 41,
   "metadata": {},
   "outputs": [],
   "source": [
    "cd = CustomCsvDict(t)"
   ]
  },
  {
   "cell_type": "code",
   "execution_count": 42,
   "metadata": {},
   "outputs": [],
   "source": [
    "text = cd.to_csv_string()"
   ]
  },
  {
   "cell_type": "code",
   "execution_count": null,
   "metadata": {},
   "outputs": [],
   "source": [
    "cd[:100]"
   ]
  },
  {
   "cell_type": "code",
   "execution_count": null,
   "metadata": {},
   "outputs": [],
   "source": [
    "for t in cd[:5]:\n",
    "    print(t)"
   ]
  },
  {
   "cell_type": "code",
   "execution_count": 15,
   "metadata": {},
   "outputs": [],
   "source": [
    "fp.set_text(\"assets/forassetbundles/textfiles/localization.csv\", \"qweqweqweqwe\")\n",
    "fp.save_asset(\"./test\")"
   ]
  }
 ],
 "metadata": {
  "kernelspec": {
   "display_name": ".venv",
   "language": "python",
   "name": "python3"
  },
  "language_info": {
   "codemirror_mode": {
    "name": "ipython",
    "version": 3
   },
   "file_extension": ".py",
   "mimetype": "text/x-python",
   "name": "python",
   "nbconvert_exporter": "python",
   "pygments_lexer": "ipython3",
   "version": "3.12.1"
  }
 },
 "nbformat": 4,
 "nbformat_minor": 2
}
