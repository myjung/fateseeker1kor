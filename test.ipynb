{
 "cells": [
  {
   "cell_type": "code",
   "execution_count": 1,
   "metadata": {},
   "outputs": [],
   "source": [
    "from patcher.extractor import FateSeeker1Patcher, FateSeeker1PatchHelper, FateSeeker1MetaInfo, FateSeekerCsvParser\n",
    "import UnityPy\n",
    "import pathlib\n",
    "import os\n",
    "from collections import OrderedDict\n",
    "import csv\n",
    "import json\n",
    "from pprint import pprint as pp"
   ]
  },
  {
   "cell_type": "code",
   "execution_count": 2,
   "metadata": {},
   "outputs": [
    {
     "data": {
      "text/plain": [
       "'assets/forassetbundles/movies/other/dlcopening_chinese.bytes'"
      ]
     },
     "execution_count": 2,
     "metadata": {},
     "output_type": "execute_result"
    }
   ],
   "source": [
    "FateSeeker1MetaInfo.dlc_opening"
   ]
  },
  {
   "cell_type": "code",
   "execution_count": 3,
   "metadata": {},
   "outputs": [],
   "source": [
    "backuped_assets_path = pathlib.Path(\"extracted_assets\")\n",
    "fate_patcher = FateSeeker1Patcher(pathlib.Path(os.path.abspath(\".\")).joinpath(\"extracted_assets\"))\n",
    "fate_pach_helper = FateSeeker1PatchHelper(fate_patcher)\n",
    "t = fate_patcher.get_text(\"assets/forassetbundles/textfiles/localization.csv\")"
   ]
  },
  {
   "cell_type": "code",
   "execution_count": 4,
   "metadata": {},
   "outputs": [],
   "source": [
    "def make_korean_string_table(input_file_path:str)->dict:\n",
    "    output = dict()\n",
    "    with open(input_file_path,\"r\",encoding=\"utf8\") as f:\n",
    "        for line in f:\n",
    "            try:\n",
    "                id,Key,Chinese,ENGLISH,Old,New, = line.strip().split(\"\\t\")\n",
    "                output[Key] = New\n",
    "            except Exception as e:\n",
    "                print(line, e)\n",
    "    return output"
   ]
  },
  {
   "cell_type": "code",
   "execution_count": 5,
   "metadata": {},
   "outputs": [],
   "source": [
    "i = make_korean_string_table(\"./docs/input.tsv\")"
   ]
  },
  {
   "cell_type": "code",
   "execution_count": 6,
   "metadata": {},
   "outputs": [],
   "source": [
    "fs_localizations = FateSeekerCsvParser(t)"
   ]
  },
  {
   "cell_type": "code",
   "execution_count": 7,
   "metadata": {},
   "outputs": [],
   "source": [
    "output = fs_localizations.change_by_key(i)"
   ]
  },
  {
   "cell_type": "code",
   "execution_count": 8,
   "metadata": {},
   "outputs": [],
   "source": [
    "fate_patcher.set_text(\"assets/forassetbundles/textfiles/localization.csv\", output)\n",
    "fate_patcher.save_asset(\"./textfiles\")"
   ]
  },
  {
   "cell_type": "code",
   "execution_count": null,
   "metadata": {},
   "outputs": [],
   "source": [
    "output = list()\n",
    "need_translations = dict()\n",
    "with open(\"texts.csv\",mode=\"r\",encoding=\"utf8\") as f:\n",
    "    t = csv.DictReader(f, delimiter=\"\\t\")\n",
    "    for row in t:\n",
    "        if row[\"group\"] in (\"HEAR\", \"TNPC\", \"SDM\", \"SDRAMA\", \"fix\"):\n",
    "            if row[\"find\"]:\n",
    "                cf = row.get(\"find\")\n",
    "                print(row)\n",
    "            # print([f\"{row['group']}_{cf}\"])\n",
    "            need_translations.setdefault(f\"{row['group']}_{cf}\",OrderedDict())\n",
    "            need_translations[f\"{row['group']}_{cf}\"][row[\"number\"]] = row[\"Chinese\"]\n",
    "\n",
    "\n"
   ]
  },
  {
   "cell_type": "code",
   "execution_count": 16,
   "metadata": {},
   "outputs": [],
   "source": [
    "sliced_texts = OrderedDict()\n",
    "for master_key, talks in need_translations.items():\n",
    "    slice_number = 0\n",
    "    total_length = 0\n",
    "    for talk_id, script in talks.items():\n",
    "        if total_length > 1400:\n",
    "            slice_number += 1\n",
    "            total_length = 0\n",
    "        total_length += len(script)\n",
    "        sliced_texts.setdefault(f\"{master_key}#{slice_number}\",OrderedDict())\n",
    "        sliced_texts[f\"{master_key}#{slice_number}\"][talk_id] = script"
   ]
  },
  {
   "cell_type": "code",
   "execution_count": null,
   "metadata": {},
   "outputs": [],
   "source": [
    "pp(sliced_texts)"
   ]
  },
  {
   "cell_type": "markdown",
   "metadata": {},
   "source": [
    "json.dump(sliced_texts, open(\"sliced_texts.json\", \"w\", encoding=\"utf8\"), ensure_ascii=False, indent=4)"
   ]
  },
  {
   "cell_type": "code",
   "execution_count": 3,
   "metadata": {},
   "outputs": [],
   "source": [
    "sliced_texts= json.load(open(\"sliced_texts.json\",\"r\",encoding=\"utf8\"))"
   ]
  },
  {
   "cell_type": "code",
   "execution_count": 9,
   "metadata": {},
   "outputs": [],
   "source": [
    "word_translation_dictionaries = dict()\n",
    "with open(\"dictionary.csv\", mode=\"r\", encoding=\"utf8\") as f:\n",
    "    t = csv.DictReader(f, delimiter=\"\\t\")\n",
    "    for row in t:\n",
    "        word_translation_dictionaries[row[\"Chinese\"]] = row[\"Translated\"]\n",
    "# pp(word_translation_dictionaries.values())"
   ]
  },
  {
   "cell_type": "code",
   "execution_count": 6,
   "metadata": {},
   "outputs": [],
   "source": [
    "new_texts = dict()\n",
    "meta_data_list = set()\n",
    "for key, texts in sliced_texts.items():\n",
    "    new_texts.setdefault(key, OrderedDict())\n",
    "    new_texts[key][\"need_translate\"] = texts\n",
    "    new_texts[key][\"meta_data\"] = set()\n",
    "    for text_id, original_script in texts.items():\n",
    "        for chinese_word in word_translation_dictionaries.keys():\n",
    "            if chinese_word in original_script:\n",
    "                new_texts.setdefault(key, OrderedDict())\n",
    "                new_texts[key][\"meta_data\"].add((chinese_word, word_translation_dictionaries[chinese_word]))\n",
    "        for v in (\"姑娘\", \"小姐\"):\n",
    "            if v in original_script:\n",
    "                meta_data_list.add(key)\n",
    "    new_texts[key][\"meta_data\"] = {k:v for k,v in new_texts[key][\"meta_data\"]}\n"
   ]
  },
  {
   "cell_type": "code",
   "execution_count": null,
   "metadata": {},
   "outputs": [],
   "source": [
    "pp(list(meta_data_list))"
   ]
  },
  {
   "cell_type": "code",
   "execution_count": null,
   "metadata": {},
   "outputs": [],
   "source": [
    "for key in meta_data_list:\n",
    "    os.remove(f\"./works/{key}.txt\")\n",
    "    print(key)"
   ]
  },
  {
   "cell_type": "code",
   "execution_count": 35,
   "metadata": {},
   "outputs": [],
   "source": [
    "# pp(new_texts)\n",
    "json.dump(new_texts, open(\"script_with_meta_data.json\", \"w\", encoding=\"utf8\"), ensure_ascii=False, indent=4)"
   ]
  },
  {
   "cell_type": "code",
   "execution_count": 24,
   "metadata": {},
   "outputs": [],
   "source": [
    "untranslated = dict()\n",
    "with open(\"untranslated.csv\", mode=\"r\", encoding=\"utf8\") as f:\n",
    "    for row in f:\n",
    "        id, text = row.split(\"\\t\")\n",
    "        untranslated[id] = text"
   ]
  },
  {
   "cell_type": "code",
   "execution_count": null,
   "metadata": {},
   "outputs": [],
   "source": [
    "untranslated"
   ]
  },
  {
   "cell_type": "code",
   "execution_count": 38,
   "metadata": {},
   "outputs": [],
   "source": [
    "sliced_untranslated = OrderedDict()\n",
    "\n",
    "total_length = 0\n",
    "slice_number = 0\n",
    "for id, script in untranslated.items():\n",
    "    if total_length > 1000:\n",
    "        slice_number += 1\n",
    "        total_length = 0\n",
    "    total_length += len(script)\n",
    "    sliced_untranslated.setdefault(f\"untranslated_{slice_number}\",OrderedDict())\n",
    "    sliced_untranslated[f\"untranslated_{slice_number}\"][id] = script"
   ]
  },
  {
   "cell_type": "code",
   "execution_count": null,
   "metadata": {},
   "outputs": [],
   "source": [
    "sliced_untranslated"
   ]
  },
  {
   "cell_type": "code",
   "execution_count": 40,
   "metadata": {},
   "outputs": [],
   "source": [
    "new_untranslated_texts = dict()\n",
    "meta_data_list = set()\n",
    "for key, texts in sliced_untranslated.items():\n",
    "    new_untranslated_texts.setdefault(key, OrderedDict())\n",
    "    new_untranslated_texts[key][\"need_translate\"] = texts\n",
    "    new_untranslated_texts[key][\"meta_data\"] = set()\n",
    "    for text_id, original_script in texts.items():\n",
    "        for chinese_word in word_translation_dictionaries.keys():\n",
    "            if chinese_word in original_script:\n",
    "                new_untranslated_texts.setdefault(key, OrderedDict())\n",
    "                new_untranslated_texts[key][\"meta_data\"].add((chinese_word, word_translation_dictionaries[chinese_word]))\n",
    "    new_untranslated_texts[key][\"meta_data\"] = {k:v for k,v in new_untranslated_texts[key][\"meta_data\"]}"
   ]
  },
  {
   "cell_type": "code",
   "execution_count": null,
   "metadata": {},
   "outputs": [],
   "source": [
    "new_untranslated_texts"
   ]
  },
  {
   "cell_type": "code",
   "execution_count": 42,
   "metadata": {},
   "outputs": [],
   "source": [
    "json.dump(new_untranslated_texts, open(\"untranslated_with_meta_data.json\", \"w\", encoding=\"utf8\"), ensure_ascii=False, indent=2)"
   ]
  },
  {
   "cell_type": "code",
   "execution_count": null,
   "metadata": {},
   "outputs": [],
   "source": [
    "pp(list(new_untranslated_texts.keys()))"
   ]
  }
 ],
 "metadata": {
  "kernelspec": {
   "display_name": ".venv",
   "language": "python",
   "name": "python3"
  },
  "language_info": {
   "codemirror_mode": {
    "name": "ipython",
    "version": 3
   },
   "file_extension": ".py",
   "mimetype": "text/x-python",
   "name": "python",
   "nbconvert_exporter": "python",
   "pygments_lexer": "ipython3",
   "version": "3.12.1"
  }
 },
 "nbformat": 4,
 "nbformat_minor": 2
}
