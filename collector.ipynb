{
 "cells": [
  {
   "cell_type": "code",
   "execution_count": 1,
   "metadata": {},
   "outputs": [],
   "source": [
    "import json\n",
    "import csv\n",
    "import os\n",
    "import pathlib"
   ]
  },
  {
   "cell_type": "code",
   "execution_count": 2,
   "metadata": {},
   "outputs": [],
   "source": [
    "def cleaner(s):\n",
    "    return s.replace(\"\\\\n\", \"\\n\").replace(\"\\\\r\", \"\\r\").replace(\"\\\\t\", \"\\t\").replace(\"'<result>\",\"\").replace(\"</result>'\",\"\")"
   ]
  },
  {
   "cell_type": "code",
   "execution_count": 10,
   "metadata": {},
   "outputs": [],
   "source": [
    "works_path = pathlib.Path(os.curdir).joinpath(\"works\")\n",
    "collected_works = dict()\n",
    "for file in os.listdir(works_path):\n",
    "    try:\n",
    "        with open(works_path.joinpath(file), \"r\", encoding=\"utf8\") as f:\n",
    "            collected_works[file.split(\".\")[0]] = json.load(f)\n",
    "    except Exception as e:\n",
    "        print(f\"Error reading {file}: {e}\")\n",
    "        collected_works[file.split(\".\")[0]] = json.loads(cleaner(open(works_path.joinpath(file), \"r\", encoding=\"utf8\").read()))"
   ]
  },
  {
   "cell_type": "code",
   "execution_count": 11,
   "metadata": {},
   "outputs": [],
   "source": [
    "json.dump(collected_works, open(\"collected_works.json\", \"w\", encoding=\"utf8\"), indent=2, ensure_ascii=False)"
   ]
  },
  {
   "cell_type": "code",
   "execution_count": 12,
   "metadata": {},
   "outputs": [],
   "source": [
    "reformatted_json = dict()\n",
    "for k,v in collected_works.items():\n",
    "    group = k.split(\"_\")[0]\n",
    "    for id, text in v.items():\n",
    "        # print(f\"{group}_{id}\\t{text}\")\n",
    "        reformatted_json[f\"{group}_{id}\"] = text\n",
    "\n",
    "with open(\"collected_works_reformatted.json\", \"w\", encoding=\"utf8\") as f:\n",
    "    json.dump(reformatted_json, f, indent=2, ensure_ascii=False)"
   ]
  },
  {
   "cell_type": "code",
   "execution_count": 6,
   "metadata": {},
   "outputs": [],
   "source": [
    "works_path = pathlib.Path(os.curdir).joinpath(\"works\")\n",
    "collected_untranslated_works = dict()\n",
    "for file in os.listdir(works_path):\n",
    "    if not file.startswith(\"untranslated\"):\n",
    "        continue\n",
    "    try:\n",
    "        with open(works_path.joinpath(file), \"r\", encoding=\"utf8\") as f:\n",
    "            collected_untranslated_works.update( json.load(f))\n",
    "    except Exception as e:\n",
    "        print(f\"Error reading {file}: {e}\")\n",
    "        collected_untranslated_works[file.split(\".\")[0]] = json.loads(cleaner(open(works_path.joinpath(file), \"r\", encoding=\"utf8\").read()))\n",
    "\n",
    "with open(\"collected_untranslated_reformatted.json\", \"w\", encoding=\"utf8\") as f:\n",
    "    json.dump(collected_untranslated_works, f, indent=2, ensure_ascii=False)"
   ]
  }
 ],
 "metadata": {
  "kernelspec": {
   "display_name": ".venv",
   "language": "python",
   "name": "python3"
  },
  "language_info": {
   "codemirror_mode": {
    "name": "ipython",
    "version": 3
   },
   "file_extension": ".py",
   "mimetype": "text/x-python",
   "name": "python",
   "nbconvert_exporter": "python",
   "pygments_lexer": "ipython3",
   "version": "3.12.1"
  }
 },
 "nbformat": 4,
 "nbformat_minor": 2
}
