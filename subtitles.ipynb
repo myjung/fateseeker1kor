{
 "cells": [
  {
   "cell_type": "code",
   "execution_count": 1,
   "metadata": {},
   "outputs": [],
   "source": [
    "import UnityPy"
   ]
  },
  {
   "cell_type": "code",
   "execution_count": 2,
   "metadata": {},
   "outputs": [],
   "source": [
    "asset = UnityPy.load(\"./extracted_assets/movie_other.bak\")"
   ]
  },
  {
   "cell_type": "code",
   "execution_count": 3,
   "metadata": {},
   "outputs": [],
   "source": [
    "opening = asset.container['assets/forassetbundles/movies/other/opening_chinese.bytes']\n",
    "dlc = asset.container['assets/forassetbundles/movies/other/dlcopening_chinese.bytes']\n",
    "opening_text = opening.read()\n",
    "dlc_text = dlc.read()"
   ]
  },
  {
   "cell_type": "code",
   "execution_count": 4,
   "metadata": {},
   "outputs": [],
   "source": [
    "opening_subtitles = {\n",
    "    \"不碰官場之事\": \"관의 일에 상관해서는 안된다\",\n",
    "    \"是本門最重要的規矩\": \"본문의 가장 중요한 규율이다\",\n",
    "    \"師父總是說\": \"사부는 늘 말씀하셨다\",\n",
    "    \"孰是孰非\": \"시비곡직은\",\n",
    "    \"天自有定數\": \"하늘이 정하는 것인데\",\n",
    "    \"豈是一介武夫可參透？\": \"어찌 일개 무부 따위가 판단할 수 있겠느냐\",\n",
    "    \"那天\": \"그날\",\n",
    "    \"我為了對老友的承諾\": \"나는 오랜 벗과의 약속을 위해\",\n",
    "    \"打破了規定\": \"규율을 깨고 말았다\",\n",
    "    \"只為了保全老友唯一的子嗣\": \"오직 친구의 유일한 혈육을 보전하기 위해서\",\n",
    "    \"『吾不求吾兒名留千古』\": \"『나는 내 이름을 천고에 남기는 것은 바라지 않네』\",\n",
    "    \"『只求他能一世平安』\": \"『그저 아이가 일생 평안하기를 바랄 뿐일세』\",\n",
    "    \"那便是老友唯一的願望\": \"그것이 바로 벗의 유일한 소망이었다\",\n",
    "    \"戰火無情\": \"전화는 무정하여\",\n",
    "    \"要尋找一名孩童\": \"어린아이 하나를 찾는 것도\",\n",
    "    \"談何容易\": \"쉽지 않았다\",\n",
    "    \"即便在江湖上混了點虛名\": \"강호를 누비며 헛된 명성을 조금 얻었지만\",\n",
    "    \"此刻的我\": \"그때의 나는\",\n",
    "    \"只感覺到自己的無能\": \"스스로의 무능함과\",\n",
    "    \"與渺小\": \"초라함만을 느낄 뿐이었다\",\n",
    "    \"最後\": \"끝내\",\n",
    "    \"我只找到一具冰冷的身軀\": \"내가 찾아낸 것은 그저 차게 식은 몸뚱이뿐\",\n",
    "    \"我抱著一絲希望\": \"나는 실낱 같은 희망으로\",\n",
    "    \"尋訪附近所有的醫者\": \"근처의 모든 의원들을 찾아다녔으나\",\n",
    "    \"卻得不到想要的答案\": \"원하는 답은 얻지 못하고\",\n",
    "    \"我陷入了徹底的絕望\": \"철저한 절망에 빠지고 말았다\",\n",
    "    \"令我絕望的\": \"나를 절망케 한 것은\",\n",
    "    \"並不是人的話語\": \"결코 다른 이들의 말이 아닌\",\n",
    "    \"而是消失無蹤的幼小生命\": \"사라져가는 어린 생명이었다\",\n",
    "    \"那便是\": \"그것이 바로\",\n",
    "    \"我此生\": \"내가 일생에\",\n",
    "    \"唯一的失信\": \"유일하게 지키지 못한 약속이었다\",\n",
    "}\n",
    "\n",
    "dlc_subtitles = {\n",
    "    \"鳳鳴虎嘯傳千里\": \"봉황의 울음소리, 호랑이의 포효가 천리를 뒤흔들고\",\n",
    "    \"驚天一劍我唯尊\": \"경천일검은, 오직 나만이 지닐 자격이 있노라.\",\n",
    "    \"終於，等到這一天\": \"마침내, 이 날을 기다렸도다.\",\n",
    "    \"不枉我苦心安排\": \"내 심혈을 기울여 마련한 계획이 헛되지 않으리.\",\n",
    "    \"不知\": \"과연...\",\n",
    "    \"你，能滿足我嗎?\": \"그대는 나를 만족시킬 수 있겠는가?\",\n",
    "}"
   ]
  },
  {
   "cell_type": "code",
   "execution_count": 5,
   "metadata": {},
   "outputs": [],
   "source": [
    "t = opening_text.text\n",
    "for k, v in opening_subtitles.items():\n",
    "    t = t.replace(k, v)\n",
    "\n",
    "opening_text.script = t.encode(\"utf-8\")\n",
    "opening_text.save()\n",
    "\n",
    "t = dlc_text.text\n",
    "for k, v in dlc_subtitles.items():\n",
    "    t = t.replace(k, v)\n",
    "\n",
    "dlc_text.script = t.encode(\"utf-8\")\n",
    "dlc_text.save()"
   ]
  },
  {
   "cell_type": "code",
   "execution_count": 6,
   "metadata": {},
   "outputs": [],
   "source": [
    "with open(\"build/movie_other\", mode=\"wb\") as f:\n",
    "    f.write(asset.file.save())"
   ]
  }
 ],
 "metadata": {
  "kernelspec": {
   "display_name": ".venv",
   "language": "python",
   "name": "python3"
  },
  "language_info": {
   "codemirror_mode": {
    "name": "ipython",
    "version": 3
   },
   "file_extension": ".py",
   "mimetype": "text/x-python",
   "name": "python",
   "nbconvert_exporter": "python",
   "pygments_lexer": "ipython3",
   "version": "3.12.1"
  }
 },
 "nbformat": 4,
 "nbformat_minor": 2
}
